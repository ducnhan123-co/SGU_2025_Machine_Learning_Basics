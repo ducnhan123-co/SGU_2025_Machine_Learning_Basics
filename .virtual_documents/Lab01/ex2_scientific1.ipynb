














import matplotlib.pyplot as plt
import numpy as np
from IPython import display  # hiển thị rich output











get_ipython().run_line_magic("time", "")
# tạo ngẫu nhiên center(x,y) của hình tròn ,màu,bán kính
N = 50
x = np.random.rand(N)
y = np.random.rand(N)
colors = np.random.rand(N)
area = np.pi * (15 * np.random.rand(N)) ** 2  # 0 tới 15





# Mã kiểm tra dữ liệu
print(f"+ x: len={len(x):d}, [{min(x):.2f}, {max(x):.2f}]: 10 samples [{x[0:10]}]")
print(f"+ y: len={len(y):d}, [{min(y):.2f}, {max(y):.2f}]: 10 samples [{y[0:10]}]")
print(
    f"+ colors: len={len(colors):d}, [{min(colors):.2f}, {max(colors):.2f}]: 10 samples [{colors[0:10]}]"
)
print(
    f"+ area: len={len(area):d}, [{min(area):.2f}, {max(area):.2f}]: 10 samples [{area[0:10]}]"
)











get_ipython().run_line_magic("matplotlib", " inline")
plt.scatter(x, y, s=area, c=colors, alpha=0.5)
plt.show()






