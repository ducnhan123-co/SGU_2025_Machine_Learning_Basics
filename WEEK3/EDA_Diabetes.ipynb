{
 "cells": [
  {
   "cell_type": "markdown",
   "id": "43f20d51-e147-4420-a335-79c3b9fc1a25",
   "metadata": {},
   "source": [
    "# Dựa vào eda booking hotel và eda iris"
   ]
  },
  {
   "cell_type": "code",
   "execution_count": null,
   "id": "3ee177b0-d49c-43c8-abab-ebcf18f48bea",
   "metadata": {},
   "outputs": [],
   "source": []
  }
 ],
 "metadata": {
  "kernelspec": {
   "display_name": "Python (myenv)",
   "language": "python",
   "name": "myenv"
  },
  "language_info": {
   "codemirror_mode": {
    "name": "ipython",
    "version": 3
   },
   "file_extension": ".py",
   "mimetype": "text/x-python",
   "name": "python",
   "nbconvert_exporter": "python",
   "pygments_lexer": "ipython3",
   "version": "3.13.5"
  }
 },
 "nbformat": 4,
 "nbformat_minor": 5
}
