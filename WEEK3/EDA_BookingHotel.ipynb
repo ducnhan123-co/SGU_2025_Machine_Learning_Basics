{
 "cells": [
  {
   "cell_type": "code",
   "execution_count": null,
   "id": "cb9d0005-b15b-491b-ad9e-eb436ac10e66",
   "metadata": {},
   "outputs": [],
   "source": []
  }
 ],
 "metadata": {
  "kernelspec": {
   "display_name": "Python (myenv)",
   "language": "python",
   "name": "myenv"
  },
  "language_info": {
   "codemirror_mode": {
    "name": "ipython",
    "version": 3
   },
   "file_extension": ".py",
   "mimetype": "text/x-python",
   "name": "python",
   "nbconvert_exporter": "python",
   "pygments_lexer": "ipython3",
   "version": "3.13.5"
  }
 },
 "nbformat": 4,
 "nbformat_minor": 5
}
