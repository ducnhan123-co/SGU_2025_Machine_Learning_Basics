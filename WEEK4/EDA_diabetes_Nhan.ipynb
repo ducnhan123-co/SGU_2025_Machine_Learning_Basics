{
 "cells": [
  {
   "cell_type": "markdown",
   "id": "e4321b0a-7cf2-4672-85c1-7175c79ea002",
   "metadata": {},
   "source": [
    "# Introduction\n",
    "\n",
    "Bệnh tiểu đường xảy ra khi lượng đường trong máu (glucose máu) cao bất thường. Bộ dữ liệu này có mục tiêu hỗ trợ chẩn đoán bệnh tiểu đường dựa trên một số chỉ số y khoa được thu thập.\n",
    "Một số điều kiện được áp dụng trong quá trình chọn mẫu: tất cả bệnh nhân đều là nữ, từ 21 tuổi trở lên, thuộc dân tộc Pima."
   ]
  },
  {
   "cell_type": "markdown",
   "id": "1aba0881-dbcf-4ec9-88b1-9133b7ea2488",
   "metadata": {},
   "source": [
    "## Các vấn đề thảo luận (Point to discuss)\n",
    "- Danh mục (Agenda)\n",
    "- Tóm tắt dữ liệu (Data Summary)\n",
    "- Phân tích đơn biến (Univariate analysis)\n",
    "- Phân tích nhị biến (Bivariate analysis)\n",
    "- Phân tích đa biến (Mulvariate analysis)\n",
    "- Phân tích theo Nhóm Tuổi (Age Group wise analysis)\n",
    "- Phân tích theo Mức độ Béo phì (BMI Category analysis)\n",
    "- Phân tích theo Ngưỡng Đường huyết (Glucose Threshold analysis)\n",
    "- Phân tích theo Tiền sử Gia đình (Pedigree Function analysis)\n",
    "- Bản đồ nhiệt tương quan (Correlation heatmap)\n",
    "- Kết luận (Conclusion)"
   ]
  },
  {
   "cell_type": "markdown",
   "id": "17c2f151-8479-4cdc-803f-258640800edf",
   "metadata": {},
   "source": [
    "## Dataset : https://www.kaggle.com/datasets/uciml/pima-indians-diabetes-database"
   ]
  },
  {
   "cell_type": "markdown",
   "id": "181b6162-5347-42b6-a704-a8ca49d6038b",
   "metadata": {},
   "source": [
    "## Giải thích các thuộc tính \n",
    "\n",
    "Cột   Tên cột\n",
    "1. pregnancies  -> số lần một người phụ nữ từng mang thai.\n",
    "2. glucose -> chỉ số đường huyết được đo 2 giờ sau khi bệnh nhân uống 75g dung dịch glucose\n",
    "3. blood_pressure -> áp lực trong động mạch khi tim giãn ra (là số dưới trong chỉ số huyết áp, ví dụ\n",
    "120/80).\n",
    "4. skin_thickness -> một phương pháp đo lượng mỡ dự trữ trong cơ thể\n",
    "5. insulin -> lượng insulin trong máu được đo cùng thời điểm với chỉ số đường huyết sau 2 giờ.\n",
    "6. bmi -> chỉ số khối cơ thể \n",
    "7. dpf -> chỉ số lượng hóa tiền sử gia đình mắc bệnh tiểu đường.\n",
    "8. age -> Tuổi của một người tại thời điểm khảo sát.\n",
    "9. class -> kết quả chẩn đoán mà mô hình máy học cần dự đoán (0 – Âm tính với bệnh tiểu đường; 1\n",
    "– Dương tính với bệnh tiểu đường)\n"
   ]
  },
  {
   "cell_type": "markdown",
   "id": "9a0f8f31-456f-4410-bcb3-0a8d5af41588",
   "metadata": {},
   "source": [
    "### Các bước triển khai chung\n",
    "#### Import thư viện"
   ]
  },
  {
   "cell_type": "code",
   "execution_count": 56,
   "id": "85efa1af-c95a-4d3e-87c9-756714fbd066",
   "metadata": {},
   "outputs": [],
   "source": [
    "import numpy as np\n",
    "import pandas as pd\n",
    "import matplotlib.pyplot as plt\n",
    "import seaborn as sns"
   ]
  },
  {
   "cell_type": "code",
   "execution_count": 76,
   "id": "37785038-d0bb-4f9d-8afc-874f695e0667",
   "metadata": {},
   "outputs": [
    {
     "data": {
      "text/html": [
       "<div>\n",
       "<style scoped>\n",
       "    .dataframe tbody tr th:only-of-type {\n",
       "        vertical-align: middle;\n",
       "    }\n",
       "\n",
       "    .dataframe tbody tr th {\n",
       "        vertical-align: top;\n",
       "    }\n",
       "\n",
       "    .dataframe thead th {\n",
       "        text-align: right;\n",
       "    }\n",
       "</style>\n",
       "<table border=\"1\" class=\"dataframe\">\n",
       "  <thead>\n",
       "    <tr style=\"text-align: right;\">\n",
       "      <th></th>\n",
       "      <th>6</th>\n",
       "      <th>148</th>\n",
       "      <th>72</th>\n",
       "      <th>35</th>\n",
       "      <th>0</th>\n",
       "      <th>33.6</th>\n",
       "      <th>0.627</th>\n",
       "      <th>50</th>\n",
       "      <th>1</th>\n",
       "    </tr>\n",
       "  </thead>\n",
       "  <tbody>\n",
       "    <tr>\n",
       "      <th>0</th>\n",
       "      <td>1</td>\n",
       "      <td>85</td>\n",
       "      <td>66</td>\n",
       "      <td>29</td>\n",
       "      <td>0</td>\n",
       "      <td>26.6</td>\n",
       "      <td>0.351</td>\n",
       "      <td>31</td>\n",
       "      <td>0</td>\n",
       "    </tr>\n",
       "    <tr>\n",
       "      <th>1</th>\n",
       "      <td>8</td>\n",
       "      <td>183</td>\n",
       "      <td>64</td>\n",
       "      <td>0</td>\n",
       "      <td>0</td>\n",
       "      <td>23.3</td>\n",
       "      <td>0.672</td>\n",
       "      <td>32</td>\n",
       "      <td>1</td>\n",
       "    </tr>\n",
       "    <tr>\n",
       "      <th>2</th>\n",
       "      <td>1</td>\n",
       "      <td>89</td>\n",
       "      <td>66</td>\n",
       "      <td>23</td>\n",
       "      <td>94</td>\n",
       "      <td>28.1</td>\n",
       "      <td>0.167</td>\n",
       "      <td>21</td>\n",
       "      <td>0</td>\n",
       "    </tr>\n",
       "    <tr>\n",
       "      <th>3</th>\n",
       "      <td>0</td>\n",
       "      <td>137</td>\n",
       "      <td>40</td>\n",
       "      <td>35</td>\n",
       "      <td>168</td>\n",
       "      <td>43.1</td>\n",
       "      <td>2.288</td>\n",
       "      <td>33</td>\n",
       "      <td>1</td>\n",
       "    </tr>\n",
       "    <tr>\n",
       "      <th>4</th>\n",
       "      <td>5</td>\n",
       "      <td>116</td>\n",
       "      <td>74</td>\n",
       "      <td>0</td>\n",
       "      <td>0</td>\n",
       "      <td>25.6</td>\n",
       "      <td>0.201</td>\n",
       "      <td>30</td>\n",
       "      <td>0</td>\n",
       "    </tr>\n",
       "  </tbody>\n",
       "</table>\n",
       "</div>"
      ],
      "text/plain": [
       "   6  148  72  35    0  33.6  0.627  50  1\n",
       "0  1   85  66  29    0  26.6  0.351  31  0\n",
       "1  8  183  64   0    0  23.3  0.672  32  1\n",
       "2  1   89  66  23   94  28.1  0.167  21  0\n",
       "3  0  137  40  35  168  43.1  2.288  33  1\n",
       "4  5  116  74   0    0  25.6  0.201  30  0"
      ]
     },
     "execution_count": 76,
     "metadata": {},
     "output_type": "execute_result"
    }
   ],
   "source": [
    "diabetes_df=pd.read_csv(\"pima-indians-diabetes.csv\")\n",
    "diabetes_df.head()"
   ]
  },
  {
   "cell_type": "markdown",
   "id": "061637eb-18f3-44ec-85aa-eeedae8ec66c",
   "metadata": {},
   "source": [
    "### Đặt tên cho các cột đã thống nhất"
   ]
  },
  {
   "cell_type": "code",
   "execution_count": 5,
   "id": "97a1a0cc-f88e-4f95-a18d-a3e5caf64a33",
   "metadata": {},
   "outputs": [
    {
     "data": {
      "text/html": [
       "<div>\n",
       "<style scoped>\n",
       "    .dataframe tbody tr th:only-of-type {\n",
       "        vertical-align: middle;\n",
       "    }\n",
       "\n",
       "    .dataframe tbody tr th {\n",
       "        vertical-align: top;\n",
       "    }\n",
       "\n",
       "    .dataframe thead th {\n",
       "        text-align: right;\n",
       "    }\n",
       "</style>\n",
       "<table border=\"1\" class=\"dataframe\">\n",
       "  <thead>\n",
       "    <tr style=\"text-align: right;\">\n",
       "      <th></th>\n",
       "      <th>pregnancies</th>\n",
       "      <th>glucose</th>\n",
       "      <th>blood_pressure</th>\n",
       "      <th>skin_thickness</th>\n",
       "      <th>insulin</th>\n",
       "      <th>bmi</th>\n",
       "      <th>dpf</th>\n",
       "      <th>age</th>\n",
       "      <th>class</th>\n",
       "    </tr>\n",
       "  </thead>\n",
       "  <tbody>\n",
       "    <tr>\n",
       "      <th>0</th>\n",
       "      <td>6</td>\n",
       "      <td>148</td>\n",
       "      <td>72</td>\n",
       "      <td>35</td>\n",
       "      <td>0</td>\n",
       "      <td>33.6</td>\n",
       "      <td>0.627</td>\n",
       "      <td>50</td>\n",
       "      <td>1</td>\n",
       "    </tr>\n",
       "    <tr>\n",
       "      <th>1</th>\n",
       "      <td>1</td>\n",
       "      <td>85</td>\n",
       "      <td>66</td>\n",
       "      <td>29</td>\n",
       "      <td>0</td>\n",
       "      <td>26.6</td>\n",
       "      <td>0.351</td>\n",
       "      <td>31</td>\n",
       "      <td>0</td>\n",
       "    </tr>\n",
       "    <tr>\n",
       "      <th>2</th>\n",
       "      <td>8</td>\n",
       "      <td>183</td>\n",
       "      <td>64</td>\n",
       "      <td>0</td>\n",
       "      <td>0</td>\n",
       "      <td>23.3</td>\n",
       "      <td>0.672</td>\n",
       "      <td>32</td>\n",
       "      <td>1</td>\n",
       "    </tr>\n",
       "    <tr>\n",
       "      <th>3</th>\n",
       "      <td>1</td>\n",
       "      <td>89</td>\n",
       "      <td>66</td>\n",
       "      <td>23</td>\n",
       "      <td>94</td>\n",
       "      <td>28.1</td>\n",
       "      <td>0.167</td>\n",
       "      <td>21</td>\n",
       "      <td>0</td>\n",
       "    </tr>\n",
       "    <tr>\n",
       "      <th>4</th>\n",
       "      <td>0</td>\n",
       "      <td>137</td>\n",
       "      <td>40</td>\n",
       "      <td>35</td>\n",
       "      <td>168</td>\n",
       "      <td>43.1</td>\n",
       "      <td>2.288</td>\n",
       "      <td>33</td>\n",
       "      <td>1</td>\n",
       "    </tr>\n",
       "  </tbody>\n",
       "</table>\n",
       "</div>"
      ],
      "text/plain": [
       "   pregnancies  glucose  blood_pressure  skin_thickness  insulin   bmi    dpf  \\\n",
       "0            6      148              72              35        0  33.6  0.627   \n",
       "1            1       85              66              29        0  26.6  0.351   \n",
       "2            8      183              64               0        0  23.3  0.672   \n",
       "3            1       89              66              23       94  28.1  0.167   \n",
       "4            0      137              40              35      168  43.1  2.288   \n",
       "\n",
       "   age  class  \n",
       "0   50      1  \n",
       "1   31      0  \n",
       "2   32      1  \n",
       "3   21      0  \n",
       "4   33      1  "
      ]
     },
     "execution_count": 5,
     "metadata": {},
     "output_type": "execute_result"
    }
   ],
   "source": [
    "column_names = [\"pregnancies\",\"glucose\",\"blood_pressure\",\"skin_thickness\",\"insulin\",\"bmi\",\"dpf\",\"age\",\"class\"]\n",
    "diabetes_df=pd.read_csv(\"pima-indians-diabetes.csv\",names=column_names)\n",
    "diabetes_df.head()"
   ]
  },
  {
   "cell_type": "markdown",
   "id": "31e1c20e-9918-4676-ae26-da4347a1ea77",
   "metadata": {},
   "source": [
    "### Quan sát dữ liệu"
   ]
  },
  {
   "cell_type": "code",
   "execution_count": 11,
   "id": "ef95de77-288f-4211-93fd-e23f9ae63b57",
   "metadata": {},
   "outputs": [
    {
     "name": "stdout",
     "output_type": "stream",
     "text": [
      "<class 'pandas.core.frame.DataFrame'>\n",
      "RangeIndex: 768 entries, 0 to 767\n",
      "Data columns (total 9 columns):\n",
      " #   Column          Non-Null Count  Dtype  \n",
      "---  ------          --------------  -----  \n",
      " 0   pregnancies     768 non-null    int64  \n",
      " 1   glucose         768 non-null    int64  \n",
      " 2   blood_pressure  768 non-null    int64  \n",
      " 3   skin_thickness  768 non-null    int64  \n",
      " 4   insulin         768 non-null    int64  \n",
      " 5   bmi             768 non-null    float64\n",
      " 6   dpf             768 non-null    float64\n",
      " 7   age             768 non-null    int64  \n",
      " 8   class           768 non-null    int64  \n",
      "dtypes: float64(2), int64(7)\n",
      "memory usage: 54.1 KB\n"
     ]
    }
   ],
   "source": [
    "diabetes_df.info() #Quan sát kiểu dữ liệu các cột "
   ]
  },
  {
   "cell_type": "code",
   "execution_count": 12,
   "id": "cadff723-3cdf-4f55-8d86-d01629df63c4",
   "metadata": {},
   "outputs": [
    {
     "data": {
      "text/plain": [
       "(768, 9)"
      ]
     },
     "execution_count": 12,
     "metadata": {},
     "output_type": "execute_result"
    }
   ],
   "source": [
    "diabetes_df.shape #Quan sát hàng dữ liệu"
   ]
  },
  {
   "cell_type": "code",
   "execution_count": 18,
   "id": "d37c7f11-0e18-42f3-a678-b798e8e51ca0",
   "metadata": {},
   "outputs": [
    {
     "data": {
      "text/html": [
       "<div>\n",
       "<style scoped>\n",
       "    .dataframe tbody tr th:only-of-type {\n",
       "        vertical-align: middle;\n",
       "    }\n",
       "\n",
       "    .dataframe tbody tr th {\n",
       "        vertical-align: top;\n",
       "    }\n",
       "\n",
       "    .dataframe thead th {\n",
       "        text-align: right;\n",
       "    }\n",
       "</style>\n",
       "<table border=\"1\" class=\"dataframe\">\n",
       "  <thead>\n",
       "    <tr style=\"text-align: right;\">\n",
       "      <th></th>\n",
       "      <th>count</th>\n",
       "      <th>mean</th>\n",
       "      <th>std</th>\n",
       "      <th>min</th>\n",
       "      <th>25%</th>\n",
       "      <th>50%</th>\n",
       "      <th>75%</th>\n",
       "      <th>max</th>\n",
       "    </tr>\n",
       "  </thead>\n",
       "  <tbody>\n",
       "    <tr>\n",
       "      <th>pregnancies</th>\n",
       "      <td>768.0</td>\n",
       "      <td>3.845052</td>\n",
       "      <td>3.369578</td>\n",
       "      <td>0.000</td>\n",
       "      <td>1.00000</td>\n",
       "      <td>3.0000</td>\n",
       "      <td>6.00000</td>\n",
       "      <td>17.00</td>\n",
       "    </tr>\n",
       "    <tr>\n",
       "      <th>glucose</th>\n",
       "      <td>768.0</td>\n",
       "      <td>120.894531</td>\n",
       "      <td>31.972618</td>\n",
       "      <td>0.000</td>\n",
       "      <td>99.00000</td>\n",
       "      <td>117.0000</td>\n",
       "      <td>140.25000</td>\n",
       "      <td>199.00</td>\n",
       "    </tr>\n",
       "    <tr>\n",
       "      <th>blood_pressure</th>\n",
       "      <td>768.0</td>\n",
       "      <td>69.105469</td>\n",
       "      <td>19.355807</td>\n",
       "      <td>0.000</td>\n",
       "      <td>62.00000</td>\n",
       "      <td>72.0000</td>\n",
       "      <td>80.00000</td>\n",
       "      <td>122.00</td>\n",
       "    </tr>\n",
       "    <tr>\n",
       "      <th>skin_thickness</th>\n",
       "      <td>768.0</td>\n",
       "      <td>20.536458</td>\n",
       "      <td>15.952218</td>\n",
       "      <td>0.000</td>\n",
       "      <td>0.00000</td>\n",
       "      <td>23.0000</td>\n",
       "      <td>32.00000</td>\n",
       "      <td>99.00</td>\n",
       "    </tr>\n",
       "    <tr>\n",
       "      <th>insulin</th>\n",
       "      <td>768.0</td>\n",
       "      <td>79.799479</td>\n",
       "      <td>115.244002</td>\n",
       "      <td>0.000</td>\n",
       "      <td>0.00000</td>\n",
       "      <td>30.5000</td>\n",
       "      <td>127.25000</td>\n",
       "      <td>846.00</td>\n",
       "    </tr>\n",
       "    <tr>\n",
       "      <th>bmi</th>\n",
       "      <td>768.0</td>\n",
       "      <td>31.992578</td>\n",
       "      <td>7.884160</td>\n",
       "      <td>0.000</td>\n",
       "      <td>27.30000</td>\n",
       "      <td>32.0000</td>\n",
       "      <td>36.60000</td>\n",
       "      <td>67.10</td>\n",
       "    </tr>\n",
       "    <tr>\n",
       "      <th>dpf</th>\n",
       "      <td>768.0</td>\n",
       "      <td>0.471876</td>\n",
       "      <td>0.331329</td>\n",
       "      <td>0.078</td>\n",
       "      <td>0.24375</td>\n",
       "      <td>0.3725</td>\n",
       "      <td>0.62625</td>\n",
       "      <td>2.42</td>\n",
       "    </tr>\n",
       "    <tr>\n",
       "      <th>age</th>\n",
       "      <td>768.0</td>\n",
       "      <td>33.240885</td>\n",
       "      <td>11.760232</td>\n",
       "      <td>21.000</td>\n",
       "      <td>24.00000</td>\n",
       "      <td>29.0000</td>\n",
       "      <td>41.00000</td>\n",
       "      <td>81.00</td>\n",
       "    </tr>\n",
       "    <tr>\n",
       "      <th>class</th>\n",
       "      <td>768.0</td>\n",
       "      <td>0.348958</td>\n",
       "      <td>0.476951</td>\n",
       "      <td>0.000</td>\n",
       "      <td>0.00000</td>\n",
       "      <td>0.0000</td>\n",
       "      <td>1.00000</td>\n",
       "      <td>1.00</td>\n",
       "    </tr>\n",
       "  </tbody>\n",
       "</table>\n",
       "</div>"
      ],
      "text/plain": [
       "                count        mean         std     min       25%       50%  \\\n",
       "pregnancies     768.0    3.845052    3.369578   0.000   1.00000    3.0000   \n",
       "glucose         768.0  120.894531   31.972618   0.000  99.00000  117.0000   \n",
       "blood_pressure  768.0   69.105469   19.355807   0.000  62.00000   72.0000   \n",
       "skin_thickness  768.0   20.536458   15.952218   0.000   0.00000   23.0000   \n",
       "insulin         768.0   79.799479  115.244002   0.000   0.00000   30.5000   \n",
       "bmi             768.0   31.992578    7.884160   0.000  27.30000   32.0000   \n",
       "dpf             768.0    0.471876    0.331329   0.078   0.24375    0.3725   \n",
       "age             768.0   33.240885   11.760232  21.000  24.00000   29.0000   \n",
       "class           768.0    0.348958    0.476951   0.000   0.00000    0.0000   \n",
       "\n",
       "                      75%     max  \n",
       "pregnancies       6.00000   17.00  \n",
       "glucose         140.25000  199.00  \n",
       "blood_pressure   80.00000  122.00  \n",
       "skin_thickness   32.00000   99.00  \n",
       "insulin         127.25000  846.00  \n",
       "bmi              36.60000   67.10  \n",
       "dpf               0.62625    2.42  \n",
       "age              41.00000   81.00  \n",
       "class             1.00000    1.00  "
      ]
     },
     "execution_count": 18,
     "metadata": {},
     "output_type": "execute_result"
    }
   ],
   "source": [
    "diabetes_df.describe().T"
   ]
  },
  {
   "cell_type": "markdown",
   "id": "af96bd1a-4d72-4a9d-8b05-6c7a20372b22",
   "metadata": {},
   "source": [
    "==> Có những số liệu như glucose , blood_pressure , skin_thickness và insulin =0 -> vô lý vì chỉ có pregnancies(số lần mang thai) mới = 0 được -> các chỉ số khác ko thể = 0 -> lỗi nhập liệu hoặc sai sót gì đó"
   ]
  },
  {
   "cell_type": "markdown",
   "id": "f3afdba3-3937-4170-bb51-63e2a3c856a8",
   "metadata": {},
   "source": [
    "### Xem class mong muốn có tỉ lệ với nhau bao nhiêu "
   ]
  },
  {
   "cell_type": "code",
   "execution_count": 20,
   "id": "c053bebd-5bfe-47c7-9a0b-00153603ef57",
   "metadata": {},
   "outputs": [
    {
     "data": {
      "text/plain": [
       "class\n",
       "0    500\n",
       "1    268\n",
       "Name: count, dtype: int64"
      ]
     },
     "execution_count": 20,
     "metadata": {},
     "output_type": "execute_result"
    }
   ],
   "source": [
    "diabetes_df['class'].value_counts()"
   ]
  },
  {
   "cell_type": "markdown",
   "id": "3b8fdb35-b23e-4fc3-a528-2dcbeb413507",
   "metadata": {},
   "source": [
    "### Đếm xem có bao nhiêu cái = 0\n"
   ]
  },
  {
   "cell_type": "code",
   "execution_count": 17,
   "id": "b1177198-ceb8-467b-845b-32a41e21baaa",
   "metadata": {},
   "outputs": [
    {
     "name": "stdout",
     "output_type": "stream",
     "text": [
      "Giá trị nhỏ nhất của cột pregnancies là 0\n",
      "Giá trị nhỏ nhất của cột glucose là 0\n",
      "Giá trị nhỏ nhất của cột blood_pressure là 0\n",
      "Giá trị nhỏ nhất của cột skin_thickness là 0\n",
      "Giá trị nhỏ nhất của cột insulin là 0\n",
      "Giá trị nhỏ nhất của cột bmi là 0.0\n",
      "Giá trị nhỏ nhất của cột dpf là 0.078\n",
      "Giá trị nhỏ nhất của cột age là 21\n",
      "Giá trị nhỏ nhất của cột class là 0\n"
     ]
    }
   ],
   "source": [
    "for col in diabetes_df.columns:\n",
    "    print(\"Giá trị nhỏ nhất của cột {} là {}\".format(col, diabetes_df[col].min()))\n",
    "# => xử lý sao?"
   ]
  },
  {
   "cell_type": "code",
   "execution_count": 23,
   "id": "6b8c4550-e9ab-4843-b42c-d1b45e1d835d",
   "metadata": {},
   "outputs": [],
   "source": [
    "cols = ['glucose', 'blood_pressure', 'skin_thickness', 'insulin', 'bmi']\n",
    "for col in cols:\n",
    "    diabetes_df[col] = diabetes_df[col].replace(0, np.nan)\n",
    "# => vì dữ liệu it data -> đổi sang null -> hợp lý hơn là xóa hết -> ảnh hưởng \"class\""
   ]
  },
  {
   "cell_type": "markdown",
   "id": "c5244c67-8760-45c1-9126-c9276ffb9b71",
   "metadata": {},
   "source": [
    "## EDA \n",
    "- Tasks của Nhân :\n",
    "    1. Phân tích theo Nhóm Tuổi (Age Group wise analysis)\n",
    "    2. Phân tích theo Mức độ Béo phì (BMI Category analysis)"
   ]
  },
  {
   "cell_type": "markdown",
   "id": "dd2284b4-9221-4e85-99aa-5e7994f7c710",
   "metadata": {},
   "source": [
    "### Phân tích theo Nhóm Tuổi (Age Group wise analysis)\n",
    "- Mục tiêu: Tuổi tác là yếu tố nguy cơ chính. Phân tích theo nhóm sẽ rõ hơn so với tuổi liên tục.\n",
    "- Cách làm: Chia biến Age thành các nhóm (vd: <30, 30-45, 45-60, >60).\n",
    "- Câu hỏi phân tích:\n",
    "\n",
    "    - Tỷ lệ mắc bệnh (Outcome=1) ở nhóm tuổi nào là cao nhất? (Kỳ vọng: tỷ lệ tăng dần theo tuổi).\n",
    "\n",
    "    - Ở nhóm tuổi trẻ (<30), những người vẫn mắc bệnh có đặc điểm chung gì? (Glucose rất cao?,BMI rất cao? Tiền sử gia đình nặng?).\n",
    " "
   ]
  },
  {
   "cell_type": "code",
   "execution_count": 39,
   "id": "064868de-249a-4845-9e70-3a26b1a427af",
   "metadata": {},
   "outputs": [
    {
     "data": {
      "text/plain": [
       "array([50, 31, 32, 21, 33, 30, 26, 29, 53, 54, 34, 57, 59, 51, 27, 41, 43,\n",
       "       22, 38, 60, 28, 45, 35, 46, 56, 37, 48, 40, 25, 24, 58, 42, 44, 39,\n",
       "       36, 23, 61, 69, 62, 55, 65, 47, 52, 66, 49, 63, 67, 72, 81, 64, 70,\n",
       "       68])"
      ]
     },
     "execution_count": 39,
     "metadata": {},
     "output_type": "execute_result"
    }
   ],
   "source": [
    "diabetes_df[\"age\"].unique()"
   ]
  },
  {
   "cell_type": "markdown",
   "id": "d0c30ee2-c0d7-447a-b1b7-bdf2a92bb518",
   "metadata": {},
   "source": [
    "### Chia biến Age thành các nhóm (vd: <30, 30-45, 45-60, >60)."
   ]
  },
  {
   "cell_type": "code",
   "execution_count": 31,
   "id": "d2b0a497-cc7f-404f-b1ca-136ad2dd8f91",
   "metadata": {},
   "outputs": [
    {
     "data": {
      "text/html": [
       "<div>\n",
       "<style scoped>\n",
       "    .dataframe tbody tr th:only-of-type {\n",
       "        vertical-align: middle;\n",
       "    }\n",
       "\n",
       "    .dataframe tbody tr th {\n",
       "        vertical-align: top;\n",
       "    }\n",
       "\n",
       "    .dataframe thead th {\n",
       "        text-align: right;\n",
       "    }\n",
       "</style>\n",
       "<table border=\"1\" class=\"dataframe\">\n",
       "  <thead>\n",
       "    <tr style=\"text-align: right;\">\n",
       "      <th></th>\n",
       "      <th>pregnancies</th>\n",
       "      <th>glucose</th>\n",
       "      <th>blood_pressure</th>\n",
       "      <th>skin_thickness</th>\n",
       "      <th>insulin</th>\n",
       "      <th>bmi</th>\n",
       "      <th>dpf</th>\n",
       "      <th>age</th>\n",
       "      <th>class</th>\n",
       "      <th>age_group</th>\n",
       "    </tr>\n",
       "  </thead>\n",
       "  <tbody>\n",
       "    <tr>\n",
       "      <th>0</th>\n",
       "      <td>6</td>\n",
       "      <td>148.0</td>\n",
       "      <td>72.0</td>\n",
       "      <td>35.0</td>\n",
       "      <td>NaN</td>\n",
       "      <td>33.6</td>\n",
       "      <td>0.627</td>\n",
       "      <td>50</td>\n",
       "      <td>1</td>\n",
       "      <td>45-60</td>\n",
       "    </tr>\n",
       "    <tr>\n",
       "      <th>1</th>\n",
       "      <td>1</td>\n",
       "      <td>85.0</td>\n",
       "      <td>66.0</td>\n",
       "      <td>29.0</td>\n",
       "      <td>NaN</td>\n",
       "      <td>26.6</td>\n",
       "      <td>0.351</td>\n",
       "      <td>31</td>\n",
       "      <td>0</td>\n",
       "      <td>30-45</td>\n",
       "    </tr>\n",
       "    <tr>\n",
       "      <th>2</th>\n",
       "      <td>8</td>\n",
       "      <td>183.0</td>\n",
       "      <td>64.0</td>\n",
       "      <td>NaN</td>\n",
       "      <td>NaN</td>\n",
       "      <td>23.3</td>\n",
       "      <td>0.672</td>\n",
       "      <td>32</td>\n",
       "      <td>1</td>\n",
       "      <td>30-45</td>\n",
       "    </tr>\n",
       "    <tr>\n",
       "      <th>3</th>\n",
       "      <td>1</td>\n",
       "      <td>89.0</td>\n",
       "      <td>66.0</td>\n",
       "      <td>23.0</td>\n",
       "      <td>94.0</td>\n",
       "      <td>28.1</td>\n",
       "      <td>0.167</td>\n",
       "      <td>21</td>\n",
       "      <td>0</td>\n",
       "      <td>&lt;30</td>\n",
       "    </tr>\n",
       "    <tr>\n",
       "      <th>4</th>\n",
       "      <td>0</td>\n",
       "      <td>137.0</td>\n",
       "      <td>40.0</td>\n",
       "      <td>35.0</td>\n",
       "      <td>168.0</td>\n",
       "      <td>43.1</td>\n",
       "      <td>2.288</td>\n",
       "      <td>33</td>\n",
       "      <td>1</td>\n",
       "      <td>30-45</td>\n",
       "    </tr>\n",
       "  </tbody>\n",
       "</table>\n",
       "</div>"
      ],
      "text/plain": [
       "   pregnancies  glucose  blood_pressure  skin_thickness  insulin   bmi    dpf  \\\n",
       "0            6    148.0            72.0            35.0      NaN  33.6  0.627   \n",
       "1            1     85.0            66.0            29.0      NaN  26.6  0.351   \n",
       "2            8    183.0            64.0             NaN      NaN  23.3  0.672   \n",
       "3            1     89.0            66.0            23.0     94.0  28.1  0.167   \n",
       "4            0    137.0            40.0            35.0    168.0  43.1  2.288   \n",
       "\n",
       "   age  class age_group  \n",
       "0   50      1     45-60  \n",
       "1   31      0     30-45  \n",
       "2   32      1     30-45  \n",
       "3   21      0       <30  \n",
       "4   33      1     30-45  "
      ]
     },
     "execution_count": 31,
     "metadata": {},
     "output_type": "execute_result"
    }
   ],
   "source": [
    "bins=[0,29,45,60,100]\n",
    "labels=[\"<30\",\"30-45\",\"45-60\",\">60\"]\n",
    "diabetes_df[\"age_group\"]=pd.cut(diabetes_df[\"age\"],bins=bins,labels=labels,right=True)\n",
    "diabetes_df.head()"
   ]
  },
  {
   "cell_type": "code",
   "execution_count": 37,
   "id": "7a19a7bb-b5b4-442c-b536-3fa8ba97edad",
   "metadata": {},
   "outputs": [
    {
     "data": {
      "text/html": [
       "<div>\n",
       "<style scoped>\n",
       "    .dataframe tbody tr th:only-of-type {\n",
       "        vertical-align: middle;\n",
       "    }\n",
       "\n",
       "    .dataframe tbody tr th {\n",
       "        vertical-align: top;\n",
       "    }\n",
       "\n",
       "    .dataframe thead th {\n",
       "        text-align: right;\n",
       "    }\n",
       "</style>\n",
       "<table border=\"1\" class=\"dataframe\">\n",
       "  <thead>\n",
       "    <tr style=\"text-align: right;\">\n",
       "      <th></th>\n",
       "      <th>total</th>\n",
       "      <th>positive</th>\n",
       "    </tr>\n",
       "    <tr>\n",
       "      <th>age_group</th>\n",
       "      <th></th>\n",
       "      <th></th>\n",
       "    </tr>\n",
       "  </thead>\n",
       "  <tbody>\n",
       "    <tr>\n",
       "      <th>&lt;30</th>\n",
       "      <td>396</td>\n",
       "      <td>84</td>\n",
       "    </tr>\n",
       "    <tr>\n",
       "      <th>30-45</th>\n",
       "      <td>254</td>\n",
       "      <td>126</td>\n",
       "    </tr>\n",
       "    <tr>\n",
       "      <th>45-60</th>\n",
       "      <td>91</td>\n",
       "      <td>51</td>\n",
       "    </tr>\n",
       "    <tr>\n",
       "      <th>&gt;60</th>\n",
       "      <td>27</td>\n",
       "      <td>7</td>\n",
       "    </tr>\n",
       "  </tbody>\n",
       "</table>\n",
       "</div>"
      ],
      "text/plain": [
       "           total  positive\n",
       "age_group                 \n",
       "<30          396        84\n",
       "30-45        254       126\n",
       "45-60         91        51\n",
       ">60           27         7"
      ]
     },
     "execution_count": 37,
     "metadata": {},
     "output_type": "execute_result"
    }
   ],
   "source": [
    "age_group_stats = diabetes_df.groupby(\"age_group\",observed=True)[\"class\"].agg(\n",
    "    total=\"count\",\n",
    "    positive=\"sum\"\n",
    ")\n",
    "age_group_stats"
   ]
  },
  {
   "cell_type": "code",
   "execution_count": 41,
   "id": "101ed718-cd0a-4f08-a7e6-39643121d4a6",
   "metadata": {},
   "outputs": [
    {
     "data": {
      "text/html": [
       "<div>\n",
       "<style scoped>\n",
       "    .dataframe tbody tr th:only-of-type {\n",
       "        vertical-align: middle;\n",
       "    }\n",
       "\n",
       "    .dataframe tbody tr th {\n",
       "        vertical-align: top;\n",
       "    }\n",
       "\n",
       "    .dataframe thead th {\n",
       "        text-align: right;\n",
       "    }\n",
       "</style>\n",
       "<table border=\"1\" class=\"dataframe\">\n",
       "  <thead>\n",
       "    <tr style=\"text-align: right;\">\n",
       "      <th></th>\n",
       "      <th>total</th>\n",
       "      <th>positive</th>\n",
       "      <th>positive_rate</th>\n",
       "    </tr>\n",
       "    <tr>\n",
       "      <th>age_group</th>\n",
       "      <th></th>\n",
       "      <th></th>\n",
       "      <th></th>\n",
       "    </tr>\n",
       "  </thead>\n",
       "  <tbody>\n",
       "    <tr>\n",
       "      <th>&lt;30</th>\n",
       "      <td>396</td>\n",
       "      <td>84</td>\n",
       "      <td>21.212121</td>\n",
       "    </tr>\n",
       "    <tr>\n",
       "      <th>30-45</th>\n",
       "      <td>254</td>\n",
       "      <td>126</td>\n",
       "      <td>49.606299</td>\n",
       "    </tr>\n",
       "    <tr>\n",
       "      <th>45-60</th>\n",
       "      <td>91</td>\n",
       "      <td>51</td>\n",
       "      <td>56.043956</td>\n",
       "    </tr>\n",
       "    <tr>\n",
       "      <th>&gt;60</th>\n",
       "      <td>27</td>\n",
       "      <td>7</td>\n",
       "      <td>25.925926</td>\n",
       "    </tr>\n",
       "  </tbody>\n",
       "</table>\n",
       "</div>"
      ],
      "text/plain": [
       "           total  positive  positive_rate\n",
       "age_group                                \n",
       "<30          396        84      21.212121\n",
       "30-45        254       126      49.606299\n",
       "45-60         91        51      56.043956\n",
       ">60           27         7      25.925926"
      ]
     },
     "execution_count": 41,
     "metadata": {},
     "output_type": "execute_result"
    }
   ],
   "source": [
    "age_group_stats[\"positive_rate\"]=(age_group_stats[\"positive\"]/age_group_stats[\"total\"])*100\n",
    "age_group_stats"
   ]
  },
  {
   "cell_type": "markdown",
   "id": "954d9c96-fa3a-4743-b137-b2c9ee968e29",
   "metadata": {},
   "source": [
    "### Vẽ biểu đồ tỷ lệ mắc bệnh theo nhóm tuổi"
   ]
  },
  {
   "cell_type": "code",
   "execution_count": 45,
   "id": "b7d13abe-a06d-41dd-a389-6013bdc9231c",
   "metadata": {},
   "outputs": [
    {
     "data": {
      "image/png": "[encoded data removed]",
      "text/plain": [
       "<Figure size 1200x700 with 1 Axes>"
      ]
     },
     "metadata": {},
     "output_type": "display_data"
    }
   ],
   "source": [
    "plt.figure(figsize=(12,7))\n",
    "plt.bar(age_group_stats.index,age_group_stats[\"positive_rate\"],color=[\"#4daf4a\",\"#377eb8\",\"#ff7f00\",\"#e41a1c\"])\n",
    "plt.xlabel(\"Age group\")\n",
    "plt.ylabel(\"Positive Rate (%)\")\n",
    "plt.title(\"Tỷ lệ mắc tiểu đường theo nhóm tuổi\");"
   ]
  },
  {
   "cell_type": "code",
   "execution_count": 47,
   "id": "00ac2d60-a30b-4b49-88de-d44d98d5628f",
   "metadata": {},
   "outputs": [
    {
     "data": {
      "image/png": "[encoded data removed]",
      "text/plain": [
       "<Figure size 800x600 with 1 Axes>"
      ]
     },
     "metadata": {},
     "output_type": "display_data"
    }
   ],
   "source": [
    "age_group_counts = diabetes_df.groupby([\"age_group\",\"class\"],observed=True).size().unstack(fill_value=0)\n",
    "\n",
    "age_group_counts.plot(kind=\"bar\", stacked=True, figsize=(8,6), colormap=\"tab20\")\n",
    "plt.xlabel(\"Nhóm tuổi\")\n",
    "plt.ylabel(\"Số lượng\")\n",
    "plt.title(\"Số người mắc / không mắc theo nhóm tuổi\")\n",
    "plt.legend([\"Không mắc (0)\", \"Mắc (1)\"])\n",
    "plt.show()\n"
   ]
  },
  {
   "cell_type": "markdown",
   "id": "cd7d62a4-2241-41ae-8e20-84edded1bc8b",
   "metadata": {},
   "source": [
    "---> Tỷ lệ mắc bệnh (Outcome=1) ở nhóm tuổi 30-45 là cao nhất \n",
    "- Nhóm 30–45 tuổi có 126 người mắc bệnh → là số ca mắc tuyệt đối cao nhất trong các nhóm tuổi của dataset\n",
    "- Nhóm 45–60 mặc dù tỷ lệ % cao hơn (56%), nhưng số người mắc thực tế chỉ 51 → thấp hơn nhóm 30–45."
   ]
  },
  {
   "cell_type": "code",
   "execution_count": 69,
   "id": "7c6391fb-72df-4952-a457-75795582ea76",
   "metadata": {},
   "outputs": [
    {
     "name": "stderr",
     "output_type": "stream",
     "text": [
      "/tmp/ipykernel_12014/1721717112.py:8: FutureWarning: \n",
      "\n",
      "Passing `palette` without assigning `hue` is deprecated and will be removed in v0.14.0. Assign the `x` variable to `hue` and set `legend=False` for the same effect.\n",
      "\n",
      "  sns.boxplot(\n",
      "/tmp/ipykernel_12014/1721717112.py:18: FutureWarning: \n",
      "\n",
      "Passing `palette` without assigning `hue` is deprecated and will be removed in v0.14.0. Assign the `x` variable to `hue` and set `legend=False` for the same effect.\n",
      "\n",
      "  sns.boxplot(\n"
     ]
    },
    {
     "data": {
      "text/plain": [
       "Text(0.5, 1.0, 'Phân bố BMI ở nhóm <30 theo tình trạng bệnh')"
      ]
     },
     "execution_count": 69,
     "metadata": {},
     "output_type": "execute_result"
    },
    {
     "data": {
      "image/png": "[encoded data removed]",
      "text/plain": [
       "<Figure size 1000x500 with 1 Axes>"
      ]
     },
     "metadata": {},
     "output_type": "display_data"
    },
    {
     "data": {
      "image/png": "[encoded data removed]",
      "text/plain": [
       "<Figure size 1000x500 with 1 Axes>"
      ]
     },
     "metadata": {},
     "output_type": "display_data"
    }
   ],
   "source": [
    "import matplotlib.pyplot as plt\n",
    "import seaborn as sns\n",
    "\n",
    "group_less_30 = diabetes_df[diabetes_df[\"age_group\"] == \"<30\"].copy()\n",
    "group_less_30[\"class_label\"] = group_less_30[\"class\"].map({0:\"không mắc\", 1:\"bị mắc\"})\n",
    "\n",
    "plt.figure(figsize=(10,5))\n",
    "sns.boxplot(\n",
    "    x=\"class_label\",\n",
    "    y=\"glucose\",\n",
    "    data=group_less_30,\n",
    "    palette={\"không mắc\":\"skyblue\",\"bị mắc\":\"salmon\"}  # đổi key\n",
    ")\n",
    "\n",
    "plt.title(\"Phân bố Glucose ở nhóm <30 theo tình trạng bệnh\")\n",
    "\n",
    "plt.figure(figsize=(10,5))\n",
    "sns.boxplot(\n",
    "    x=\"class_label\",\n",
    "    y=\"bmi\",\n",
    "    data=group_less_30,\n",
    "    palette={\"không mắc\":\"skyblue\",\"bị mắc\":\"salmon\"}  # đổi key\n",
    ")\n",
    "plt.title(\"Phân bố BMI ở nhóm <30 theo tình trạng bệnh\")\n"
   ]
  },
  {
   "cell_type": "markdown",
   "id": "fd3ce6ca-4e0a-4094-9ddd-d011a0c1f03e",
   "metadata": {},
   "source": [
    "1. Biểu đồ Glucose\n",
    "\n",
    "- Nhóm “bị mắc” có giá trị trung bình và trung vị (median) cao hơn hẳn nhóm “không mắc”.\n",
    "\n",
    "- Khoảng giá trị (IQR) cũng lớn hơn, có nhiều outlier cao, nghĩa là một số người có glucose rất cao.\n",
    "\n",
    "- Nhìn chung, glucose càng cao → khả năng bị tiểu đường càng lớn, điều này hợp lý về mặt y học.\n",
    "\n",
    "2. Biểu đồ BMI\n",
    "\n",
    "- Nhóm “bị mắc” có BMI trung vị cao hơn nhóm “không mắc”.\n",
    "\n",
    "- Khoảng IQR cũng rộng hơn, có một vài outlier cao (người rất béo).\n",
    "\n",
    "- Điều này cho thấy BMI cao có liên quan tới nguy cơ tiểu đường ngay cả ở nhóm <30 tuổi."
   ]
  },
  {
   "cell_type": "markdown",
   "id": "4885e8c4-5233-41b6-9ebf-e0dd7a5bbc45",
   "metadata": {},
   "source": [
    "### Phân tích theo Mức độ Béo phì (BMI Category analysis)"
   ]
  },
  {
   "cell_type": "markdown",
   "id": "1e1b8c1d-e98c-4119-880e-09121efdcf26",
   "metadata": {},
   "source": [
    "Phân tích theo Mức độ Béo phì (BMI Category analysis)\n",
    "- Mục tiêu: Đánh giá tác động của cân nặng một cách trực quan.\n",
    "- Cách làm: Chia BMI thành các hạng: Thiếu cân (<18.5), Bình thường (18.5-24.9), Thừa cân\n",
    "(25-29.9), Béo phì (>=30).\n",
    "- Câu hỏi phân tích:\n",
    "    \n",
    "    • Tỷ lệ mắc bệnh có tăng rõ rệt theo các cấp độ BMI không?\n",
    "    • Trong nhóm BMI \"Bình thường\", có bao nhiêu % vẫn mắc bệnh? Đặc điểm của họ là gì? (Có\n",
    "thể do di truyền - DiabetesPedigreeFunction cao)."
   ]
  },
  {
   "cell_type": "code",
   "execution_count": 75,
   "id": "4abfcbba-3830-4972-82b2-82356607d959",
   "metadata": {},
   "outputs": [
    {
     "data": {
      "text/html": [
       "<div>\n",
       "<style scoped>\n",
       "    .dataframe tbody tr th:only-of-type {\n",
       "        vertical-align: middle;\n",
       "    }\n",
       "\n",
       "    .dataframe tbody tr th {\n",
       "        vertical-align: top;\n",
       "    }\n",
       "\n",
       "    .dataframe thead th {\n",
       "        text-align: right;\n",
       "    }\n",
       "</style>\n",
       "<table border=\"1\" class=\"dataframe\">\n",
       "  <thead>\n",
       "    <tr style=\"text-align: right;\">\n",
       "      <th></th>\n",
       "      <th>bmi</th>\n",
       "      <th>bmi_group</th>\n",
       "    </tr>\n",
       "  </thead>\n",
       "  <tbody>\n",
       "    <tr>\n",
       "      <th>0</th>\n",
       "      <td>33.6</td>\n",
       "      <td>Béo phì (≥30)</td>\n",
       "    </tr>\n",
       "    <tr>\n",
       "      <th>1</th>\n",
       "      <td>26.6</td>\n",
       "      <td>Thừa cân (25–29.9)</td>\n",
       "    </tr>\n",
       "    <tr>\n",
       "      <th>2</th>\n",
       "      <td>23.3</td>\n",
       "      <td>Bình thường (18.5–24.9)</td>\n",
       "    </tr>\n",
       "    <tr>\n",
       "      <th>3</th>\n",
       "      <td>28.1</td>\n",
       "      <td>Thừa cân (25–29.9)</td>\n",
       "    </tr>\n",
       "    <tr>\n",
       "      <th>4</th>\n",
       "      <td>43.1</td>\n",
       "      <td>Béo phì (≥30)</td>\n",
       "    </tr>\n",
       "    <tr>\n",
       "      <th>5</th>\n",
       "      <td>25.6</td>\n",
       "      <td>Thừa cân (25–29.9)</td>\n",
       "    </tr>\n",
       "    <tr>\n",
       "      <th>6</th>\n",
       "      <td>31.0</td>\n",
       "      <td>Béo phì (≥30)</td>\n",
       "    </tr>\n",
       "    <tr>\n",
       "      <th>7</th>\n",
       "      <td>35.3</td>\n",
       "      <td>Béo phì (≥30)</td>\n",
       "    </tr>\n",
       "    <tr>\n",
       "      <th>8</th>\n",
       "      <td>30.5</td>\n",
       "      <td>Béo phì (≥30)</td>\n",
       "    </tr>\n",
       "    <tr>\n",
       "      <th>9</th>\n",
       "      <td>NaN</td>\n",
       "      <td>NaN</td>\n",
       "    </tr>\n",
       "  </tbody>\n",
       "</table>\n",
       "</div>"
      ],
      "text/plain": [
       "    bmi                bmi_group\n",
       "0  33.6            Béo phì (≥30)\n",
       "1  26.6       Thừa cân (25–29.9)\n",
       "2  23.3  Bình thường (18.5–24.9)\n",
       "3  28.1       Thừa cân (25–29.9)\n",
       "4  43.1            Béo phì (≥30)\n",
       "5  25.6       Thừa cân (25–29.9)\n",
       "6  31.0            Béo phì (≥30)\n",
       "7  35.3            Béo phì (≥30)\n",
       "8  30.5            Béo phì (≥30)\n",
       "9   NaN                      NaN"
      ]
     },
     "execution_count": 75,
     "metadata": {},
     "output_type": "execute_result"
    }
   ],
   "source": [
    "# Chia nhóm\n",
    "bmi_bins = [0, 18.5, 24.9, 29.9, 100]\n",
    "bmi_labels = [\"Thiếu cân (<18.5)\", \"Bình thường (18.5–24.9)\", \"Thừa cân (25–29.9)\", \"Béo phì (≥30)\"]\n",
    "\n",
    "diabetes_df[\"bmi_group\"] = pd.cut(diabetes_df[\"bmi\"], bins=bmi_bins, labels=bmi_labels, right=True)\n",
    "\n",
    "# Quan sát thử\n",
    "diabetes_df[[\"bmi\", \"bmi_group\"]].head(10)\n"
   ]
  },
  {
   "cell_type": "code",
   "execution_count": 71,
   "id": "2df54ef2-9ddb-4bb7-9025-4c2d55aa4cbc",
   "metadata": {},
   "outputs": [
    {
     "data": {
      "text/html": [
       "<div>\n",
       "<style scoped>\n",
       "    .dataframe tbody tr th:only-of-type {\n",
       "        vertical-align: middle;\n",
       "    }\n",
       "\n",
       "    .dataframe tbody tr th {\n",
       "        vertical-align: top;\n",
       "    }\n",
       "\n",
       "    .dataframe thead th {\n",
       "        text-align: right;\n",
       "    }\n",
       "</style>\n",
       "<table border=\"1\" class=\"dataframe\">\n",
       "  <thead>\n",
       "    <tr style=\"text-align: right;\">\n",
       "      <th></th>\n",
       "      <th>total</th>\n",
       "      <th>positive</th>\n",
       "      <th>positive_rate</th>\n",
       "    </tr>\n",
       "    <tr>\n",
       "      <th>bmi_group</th>\n",
       "      <th></th>\n",
       "      <th></th>\n",
       "      <th></th>\n",
       "    </tr>\n",
       "  </thead>\n",
       "  <tbody>\n",
       "    <tr>\n",
       "      <th>Thiếu cân (&lt;18.5)</th>\n",
       "      <td>4</td>\n",
       "      <td>0</td>\n",
       "      <td>0.000000</td>\n",
       "    </tr>\n",
       "    <tr>\n",
       "      <th>Bình thường (18.5–24.9)</th>\n",
       "      <td>102</td>\n",
       "      <td>7</td>\n",
       "      <td>6.862745</td>\n",
       "    </tr>\n",
       "    <tr>\n",
       "      <th>Thừa cân (25–29.9)</th>\n",
       "      <td>179</td>\n",
       "      <td>40</td>\n",
       "      <td>22.346369</td>\n",
       "    </tr>\n",
       "    <tr>\n",
       "      <th>Béo phì (≥30)</th>\n",
       "      <td>472</td>\n",
       "      <td>219</td>\n",
       "      <td>46.398305</td>\n",
       "    </tr>\n",
       "  </tbody>\n",
       "</table>\n",
       "</div>"
      ],
      "text/plain": [
       "                         total  positive  positive_rate\n",
       "bmi_group                                              \n",
       "Thiếu cân (<18.5)            4         0       0.000000\n",
       "Bình thường (18.5–24.9)    102         7       6.862745\n",
       "Thừa cân (25–29.9)         179        40      22.346369\n",
       "Béo phì (≥30)              472       219      46.398305"
      ]
     },
     "execution_count": 71,
     "metadata": {},
     "output_type": "execute_result"
    }
   ],
   "source": [
    "bmi_group_stats = diabetes_df.groupby(\"bmi_group\", observed=True)[\"class\"].agg(\n",
    "    total=\"count\",\n",
    "    positive=\"sum\"\n",
    ")\n",
    "bmi_group_stats[\"positive_rate\"] = (bmi_group_stats[\"positive\"] / bmi_group_stats[\"total\"]) * 100\n",
    "bmi_group_stats\n"
   ]
  },
  {
   "cell_type": "code",
   "execution_count": 72,
   "id": "de636021-6753-4bf0-af58-527f43da597f",
   "metadata": {},
   "outputs": [
    {
     "data": {
      "image/png": "[encoded data removed]",
      "text/plain": [
       "<Figure size 1000x600 with 1 Axes>"
      ]
     },
     "metadata": {},
     "output_type": "display_data"
    },
    {
     "data": {
      "image/png": "[encoded data removed]",
      "text/plain": [
       "<Figure size 800x600 with 1 Axes>"
      ]
     },
     "metadata": {},
     "output_type": "display_data"
    }
   ],
   "source": [
    "\n",
    "plt.figure(figsize=(10,6))\n",
    "plt.bar(bmi_group_stats.index, bmi_group_stats[\"positive_rate\"],\n",
    "        color=[\"#4daf4a\",\"#377eb8\",\"#ff7f00\",\"#e41a1c\"])\n",
    "plt.xlabel(\"Nhóm BMI\")\n",
    "plt.ylabel(\"Tỷ lệ mắc bệnh (%)\")\n",
    "plt.title(\"Tỷ lệ mắc tiểu đường theo nhóm BMI\")\n",
    "plt.show()\n",
    "\n",
    "bmi_group_counts = diabetes_df.groupby([\"bmi_group\",\"class\"], observed=True).size().unstack(fill_value=0)\n",
    "bmi_group_counts.plot(kind=\"bar\", stacked=True, figsize=(8,6), colormap=\"tab20\")\n",
    "plt.xlabel(\"Nhóm BMI\")\n",
    "plt.ylabel(\"Số lượng\")\n",
    "plt.title(\"Số người mắc / không mắc theo nhóm BMI\")\n",
    "plt.legend([\"Không mắc (0)\", \"Mắc (1)\"])\n",
    "plt.show()\n"
   ]
  },
  {
   "cell_type": "code",
   "execution_count": 73,
   "id": "da67c912-4d81-4498-bb85-956aa0897ddb",
   "metadata": {},
   "outputs": [
    {
     "name": "stderr",
     "output_type": "stream",
     "text": [
      "/tmp/ipykernel_12014/2503494093.py:6: FutureWarning: \n",
      "\n",
      "Passing `palette` without assigning `hue` is deprecated and will be removed in v0.14.0. Assign the `x` variable to `hue` and set `legend=False` for the same effect.\n",
      "\n",
      "  sns.boxplot(\n"
     ]
    },
    {
     "data": {
      "image/png": "[encoded data removed]",
      "text/plain": [
       "<Figure size 1000x500 with 1 Axes>"
      ]
     },
     "metadata": {},
     "output_type": "display_data"
    }
   ],
   "source": [
    "group_normal = diabetes_df[diabetes_df[\"bmi_group\"] == \"Bình thường (18.5–24.9)\"].copy()\n",
    "group_normal[\"class_label\"] = group_normal[\"class\"].map({0:\"không mắc\", 1:\"bị mắc\"})\n",
    "\n",
    "# Boxplot DPF (di truyền)\n",
    "plt.figure(figsize=(10,5))\n",
    "sns.boxplot(\n",
    "    x=\"class_label\",\n",
    "    y=\"dpf\",\n",
    "    data=group_normal,\n",
    "    palette={\"không mắc\":\"skyblue\",\"bị mắc\":\"salmon\"}\n",
    ")\n",
    "plt.title(\"Phân bố Diabetes Pedigree Function (DPF) trong nhóm BMI bình thường\")\n",
    "plt.show()\n"
   ]
  },
  {
   "cell_type": "markdown",
   "id": "e0d5da3c-2029-4b70-8879-1354d6dc0c0c",
   "metadata": {},
   "source": [
    "Nhóm BMI Bình thường nhưng vẫn mắc tiểu đường (~15–20%).\n",
    "\n",
    "Các bệnh nhân này thường có DPF cao → nghĩa là có yếu tố di truyền/tiền sử gia đình.\n",
    "\n",
    "Ngoài ra có thể kết hợp xem Glucose trong nhóm này, để thấy rằng tuy cân nặng bình thường nhưng lượng đường máu cao bất thường cũng là nguyên nhân."
   ]
  },
  {
   "cell_type": "markdown",
   "id": "825a4bc4-47c8-4799-901c-ac69c9c2a1e7",
   "metadata": {},
   "source": [
    "### Kết luận tóm gọn:\n",
    "\n",
    "Tỷ lệ mắc bệnh tăng dần theo BMI: Thiếu cân < Bình thường < Thừa cân < Béo phì.\n",
    "\n",
    "Trong nhóm BMI bình thường, những người mắc bệnh chủ yếu do yếu tố di truyền (DPF cao) hoặc Glucose bất thường cao, không chỉ do cân nặng."
   ]
  },
  {
   "cell_type": "code",
   "execution_count": null,
   "id": "fb61a99f-77ee-4270-8423-d85f20f46fcb",
   "metadata": {},
   "outputs": [],
   "source": []
  }
 ],
 "metadata": {
  "kernelspec": {
   "display_name": "Python (myenv)",
   "language": "python",
   "name": "myenv"
  },
  "language_info": {
   "codemirror_mode": {
    "name": "ipython",
    "version": 3
   },
   "file_extension": ".py",
   "mimetype": "text/x-python",
   "name": "python",
   "nbconvert_exporter": "python",
   "pygments_lexer": "ipython3",
   "version": "3.13.5"
  }
 },
 "nbformat": 4,
 "nbformat_minor": 5
}
