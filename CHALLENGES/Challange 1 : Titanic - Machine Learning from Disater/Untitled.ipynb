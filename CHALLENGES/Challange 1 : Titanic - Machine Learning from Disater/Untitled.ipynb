{
 "cells": [
  {
   "cell_type": "code",
   "execution_count": 1,
   "id": "7804bc9f-8a38-4b76-b9f0-b4410fbbccd6",
   "metadata": {},
   "outputs": [],
   "source": [
    "%matplotlib inline\n",
    "import numpy as np\n",
    "import pandas as pd\n",
    "import re as re\n",
    "\n",
    "train = pd.read_csv('train.csv', header = 0, dtype={'Age': np.float64})\n",
    "test  = pd.read_csv('test.csv' , header = 0, dtype={'Age': np.float64})\n",
    "full_data = [train, test]"
   ]
  },
  {
   "cell_type": "code",
   "execution_count": 2,
   "id": "72bfe5c6-b91d-4a90-bdb9-2d0ad3052c85",
   "metadata": {},
   "outputs": [
    {
     "name": "stdout",
     "output_type": "stream",
     "text": [
      "<class 'pandas.core.frame.DataFrame'>\n",
      "RangeIndex: 891 entries, 0 to 890\n",
      "Data columns (total 12 columns):\n",
      " #   Column       Non-Null Count  Dtype  \n",
      "---  ------       --------------  -----  \n",
      " 0   PassengerId  891 non-null    int64  \n",
      " 1   Survived     891 non-null    int64  \n",
      " 2   Pclass       891 non-null    int64  \n",
      " 3   Name         891 non-null    object \n",
      " 4   Sex          891 non-null    object \n",
      " 5   Age          714 non-null    float64\n",
      " 6   SibSp        891 non-null    int64  \n",
      " 7   Parch        891 non-null    int64  \n",
      " 8   Ticket       891 non-null    object \n",
      " 9   Fare         891 non-null    float64\n",
      " 10  Cabin        204 non-null    object \n",
      " 11  Embarked     889 non-null    object \n",
      "dtypes: float64(2), int64(5), object(5)\n",
      "memory usage: 83.7+ KB\n"
     ]
    }
   ],
   "source": [
    "train.info()"
   ]
  },
  {
   "cell_type": "code",
   "execution_count": 3,
   "id": "c25eed35-c23e-4a5b-a8d8-8a20ce02a853",
   "metadata": {},
   "outputs": [
    {
     "name": "stdout",
     "output_type": "stream",
     "text": [
      "Saved: fig_missing_values.png, fig_fare_distribution.png\n"
     ]
    }
   ],
   "source": [
    "import pandas as pd\n",
    "import numpy as np\n",
    "import matplotlib.pyplot as plt\n",
    "\n",
    "# 1) Đọc dữ liệu\n",
    "df = pd.read_csv(\"train.csv\")  # Kaggle Titanic train.csv\n",
    "\n",
    "# 2) Tính Missing Values theo cột và vẽ bar chart\n",
    "mv_counts = df.isna().sum().sort_values(ascending=False)\n",
    "\n",
    "plt.figure(figsize=(10, 5))\n",
    "mv_counts.plot(kind=\"bar\")\n",
    "plt.title(\"Missing Values per Column (Titanic train.csv)\")\n",
    "plt.xlabel(\"Columns\")\n",
    "plt.ylabel(\"Number of Missing Values\")\n",
    "plt.tight_layout()\n",
    "plt.savefig(\"fig_missing_values.png\", dpi=300)\n",
    "plt.close()\n",
    "\n",
    "# 3) Vẽ phân phối Fare trước và sau log1p\n",
    "fare = df[\"Fare\"].dropna()\n",
    "\n",
    "# Tạo figure với 2 trục dọc (không dùng subplot nhiều cột để rõ ràng)\n",
    "plt.figure(figsize=(10, 5))\n",
    "plt.hist(fare, bins=40)\n",
    "plt.title(\"Fare Distribution (Raw)\")\n",
    "plt.xlabel(\"Fare\")\n",
    "plt.ylabel(\"Frequency\")\n",
    "plt.tight_layout()\n",
    "plt.savefig(\"fig_fare_distribution_raw_tmp.png\", dpi=300)\n",
    "plt.close()\n",
    "\n",
    "fare_log = np.log1p(fare)  # log(1 + x)\n",
    "\n",
    "plt.figure(figsize=(10, 5))\n",
    "plt.hist(fare_log, bins=40)\n",
    "plt.title(\"Fare Distribution (np.log1p Transformed)\")\n",
    "plt.xlabel(\"log1p(Fare)\")\n",
    "plt.ylabel(\"Frequency\")\n",
    "plt.tight_layout()\n",
    "plt.savefig(\"fig_fare_distribution_log_tmp.png\", dpi=300)\n",
    "plt.close()\n",
    "\n",
    "# Ghép 2 ảnh dọc (tuân thủ yêu cầu: mỗi chart riêng rẽ -> ở LaTeX có thể chèn 2 hình độc lập).\n",
    "# Nếu bạn muốn một ảnh duy nhất có 2 biểu đồ, dùng pillow để ghép:\n",
    "from PIL import Image\n",
    "\n",
    "raw = Image.open(\"fig_fare_distribution_raw_tmp.png\")\n",
    "logp = Image.open(\"fig_fare_distribution_log_tmp.png\")\n",
    "\n",
    "# Căn chiều rộng bằng nhau\n",
    "w = max(raw.width, logp.width)\n",
    "h = raw.height + logp.height\n",
    "combo = Image.new(\"RGB\", (w, h), (255, 255, 255))\n",
    "combo.paste(raw, (0, 0))\n",
    "combo.paste(logp, (0, raw.height))\n",
    "combo.save(\"fig_fare_distribution.png\")\n",
    "\n",
    "# Xoá file tạm nếu muốn:\n",
    "import os\n",
    "os.remove(\"fig_fare_distribution_raw_tmp.png\")\n",
    "os.remove(\"fig_fare_distribution_log_tmp.png\")\n",
    "\n",
    "print(\"Saved: fig_missing_values.png, fig_fare_distribution.png\")\n"
   ]
  },
  {
   "cell_type": "code",
   "execution_count": null,
   "id": "135c112d-78e3-42b8-8925-14f8e07092a6",
   "metadata": {},
   "outputs": [],
   "source": []
  }
 ],
 "metadata": {
  "kernelspec": {
   "display_name": "Python (myenv)",
   "language": "python",
   "name": "myenv"
  },
  "language_info": {
   "codemirror_mode": {
    "name": "ipython",
    "version": 3
   },
   "file_extension": ".py",
   "mimetype": "text/x-python",
   "name": "python",
   "nbconvert_exporter": "python",
   "pygments_lexer": "ipython3",
   "version": "3.13.5"
  }
 },
 "nbformat": 4,
 "nbformat_minor": 5
}
